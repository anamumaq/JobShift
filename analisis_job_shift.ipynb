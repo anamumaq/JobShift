{
 "cells": [
  {
   "cell_type": "markdown",
   "metadata": {},
   "source": [
    "# Analisis de Job Shift\n",
    "* En base a dataset de Kagle"
   ]
  },
  {
   "cell_type": "markdown",
   "metadata": {},
   "source": [
    "### Importar Librerias"
   ]
  },
  {
   "cell_type": "code",
   "execution_count": 1,
   "metadata": {},
   "outputs": [],
   "source": [
    "import pandas as pd"
   ]
  },
  {
   "cell_type": "markdown",
   "metadata": {},
   "source": [
    "## 0 Entender el caso de negocio\n",
    "* Analizando los factores que ayudan a hacer el cambio a un puesto de HR analytics\n",
    "1. Employee_1D: codigo unico del empleado\n",
    "2. city: ciudad ficticia, no exite mas información de la ciudad como tamaño o nivel de ingresos\n",
    "3. gender: Femenino, masculino, otro (contiene nulls)\n",
    "4. HR Analytics: Experiencia en HR analytics (tiene o no tiene)\n",
    "5. University Grade: grado universitario, Grade 1 es el max\n",
    "6. education_level: Nivel educativo (contiene nulls)\n",
    "7. Has HR expereince: Tiene o no tiene experiencia en HR\n",
    "8. experience: años de experiencia (contiene nulls)\n",
    "9. Job changes: cambios de trabajo por candidato (contiene nulls)\n",
    "10. Training hours: Horas de entrenamiento del candiato (80% aprox null)\n",
    "11. company_size: Nro empleados en la empresa donde trabaja (contiene nulls)\n",
    "12. Get HR Analytics Job? : Obtendra o no un trabajo de HR analytics\n",
    "\n",
    "#### Objetivo: va ser encontrar qué es lo que influye en que un candidatos pueda obtener un empleo como HR analytics\n"
   ]
  },
  {
   "cell_type": "markdown",
   "metadata": {},
   "source": [
    "## 1 Extraer data y forma"
   ]
  },
  {
   "cell_type": "code",
   "execution_count": 5,
   "metadata": {},
   "outputs": [],
   "source": [
    "#extraigo la base desde un csv\n",
    "df = pd.read_csv('HR analytics.csv')"
   ]
  },
  {
   "cell_type": "code",
   "execution_count": 6,
   "metadata": {},
   "outputs": [
    {
     "data": {
      "text/plain": [
       "(2129, 12)"
      ]
     },
     "execution_count": 6,
     "metadata": {},
     "output_type": "execute_result"
    }
   ],
   "source": [
    "# conociendo la forma del df\n",
    "# 2129 registros y 12 columnas\n",
    "df.shape"
   ]
  },
  {
   "cell_type": "code",
   "execution_count": 7,
   "metadata": {},
   "outputs": [
    {
     "data": {
      "text/plain": [
       "Index(['Employee_1D', 'city', 'gender', 'HR Analytics', 'University Grade',\n",
       "       'education_level', 'Has HR expereince', 'experience', 'Job changes',\n",
       "       'Training hours', 'company_size', 'Get HR Analytics Job? '],\n",
       "      dtype='object')"
      ]
     },
     "execution_count": 7,
     "metadata": {},
     "output_type": "execute_result"
    }
   ],
   "source": [
    "# Revisando las columnas que tiene\n",
    "df.columns"
   ]
  },
  {
   "cell_type": "code",
   "execution_count": 8,
   "metadata": {},
   "outputs": [
    {
     "name": "stdout",
     "output_type": "stream",
     "text": [
      "<class 'pandas.core.frame.DataFrame'>\n",
      "RangeIndex: 2129 entries, 0 to 2128\n",
      "Data columns (total 12 columns):\n",
      " #   Column                  Non-Null Count  Dtype  \n",
      "---  ------                  --------------  -----  \n",
      " 0   Employee_1D             2129 non-null   int64  \n",
      " 1   city                    2129 non-null   object \n",
      " 2   gender                  1621 non-null   object \n",
      " 3   HR Analytics            2129 non-null   object \n",
      " 4   University Grade        2129 non-null   object \n",
      " 5   education_level         2077 non-null   object \n",
      " 6   Has HR expereince       2129 non-null   object \n",
      " 7   experience              2124 non-null   object \n",
      " 8   Job changes             2089 non-null   object \n",
      " 9   Training hours          29 non-null     float64\n",
      " 10  company_size            1507 non-null   object \n",
      " 11  Get HR Analytics Job?   2129 non-null   object \n",
      "dtypes: float64(1), int64(1), object(10)\n",
      "memory usage: 199.7+ KB\n"
     ]
    }
   ],
   "source": [
    "# Revisnaod el tipo de dato de cada columna\n",
    "df.info()"
   ]
  },
  {
   "cell_type": "code",
   "execution_count": 19,
   "metadata": {},
   "outputs": [
    {
     "name": "stdout",
     "output_type": "stream",
     "text": [
      "valores genero ['Male' 'Female' nan 'Other']\n",
      "valores HR Analytics ['Has relevent experience' 'No relevent experience']\n",
      "valores University Grade ['Grade 2' 'Grade 3' 'Grade 1']\n",
      "valores education_level ['Graduate' 'High School' 'Masters' nan 'Phd' 'Primary School']\n",
      "valores experience ['9' '5' '<1' '11' '>20' '10' '14' '3' '20' '8' '4' '13' '2' '6' '7' '1'\n",
      " '19' '15' '16' nan '17' '18' '12']\n",
      "valores Job changes ['1' 'never' '>4' '2' '4' '3' nan]\n",
      "valores Training hours [ 98.   8.  86.  69.  97.  51. 114.  67. 105.   1.   0. 109.  79. 148.\n",
      "   5. 121.  39.  23. 120.  90.  82. 135.  59. 150.  70.  21.  10.  99.\n",
      "  89.  nan]\n",
      "valores company_size ['<10' nan '1-10' '10000+' '100-500' '50-99' '1000-4999' '500-999'\n",
      " '5000-9999']\n"
     ]
    }
   ],
   "source": [
    "# check unique values by colum\n",
    "print('valores genero', df['gender'].unique())\n",
    "print('valores HR Analytics', df['HR Analytics'].unique())\n",
    "print('valores University Grade', df['University Grade'].unique())\n",
    "print('valores education_level', df['education_level'].unique())\n",
    "print('valores experience', df['experience'].unique())\n",
    "print('valores Job changes', df['Job changes'].unique())\n",
    "print('valores Training hours', df['Training hours'].unique())\n",
    "print('valores company_size', df['company_size'].unique())\n"
   ]
  },
  {
   "cell_type": "markdown",
   "metadata": {},
   "source": [
    "## 2 Analizando Datos faltantes"
   ]
  },
  {
   "cell_type": "markdown",
   "metadata": {},
   "source": [
    "* En que columnas tengo faltantes\n",
    "    * gender (Podria reemplazarlo con la moda, pero es necesario ver si esto afecta a la pregunta final)\n",
    "    * Education Level (Podria enlazarlo con  univerity grade) \n",
    "    * Expercience (solo 5 nan no afectaria mucho)\n",
    "    * Job changes (podria enlazarlo con la experiencia)\n",
    "    * Trainning hous (demasiados nan, puede que no ayude esta variable) 98%\n",
    "    * Company size (28% sde datos faltantes)"
   ]
  },
  {
   "cell_type": "code",
   "execution_count": 20,
   "metadata": {},
   "outputs": [
    {
     "data": {
      "text/plain": [
       "Employee_1D                  0\n",
       "city                         0\n",
       "gender                     508\n",
       "HR Analytics                 0\n",
       "University Grade             0\n",
       "education_level             52\n",
       "Has HR expereince            0\n",
       "experience                   5\n",
       "Job changes                 40\n",
       "Training hours            2100\n",
       "company_size               622\n",
       "Get HR Analytics Job?        0\n",
       "dtype: int64"
      ]
     },
     "execution_count": 20,
     "metadata": {},
     "output_type": "execute_result"
    }
   ],
   "source": [
    "df.isnull().sum()"
   ]
  },
  {
   "cell_type": "markdown",
   "metadata": {},
   "source": [
    "### Entendiendo Gender para analizar los faltantes"
   ]
  },
  {
   "cell_type": "markdown",
   "metadata": {},
   "source": [
    "* El gender esta desbalanceado por tener casi el 70% de valores mal"
   ]
  },
  {
   "cell_type": "code",
   "execution_count": 33,
   "metadata": {},
   "outputs": [
    {
     "data": {
      "text/plain": [
       "1    0.685768\n",
       "0    0.064349\n",
       "2    0.011273\n",
       "Name: n, dtype: float64"
      ]
     },
     "execution_count": 33,
     "metadata": {},
     "output_type": "execute_result"
    }
   ],
   "source": [
    "df.groupby(by=['gender'], as_index=False).agg(n = ('Employee_1D', 'count')).sort_values(by='n', ascending = False).n / 2129"
   ]
  },
  {
   "cell_type": "code",
   "execution_count": null,
   "metadata": {},
   "outputs": [],
   "source": []
  }
 ],
 "metadata": {
  "interpreter": {
   "hash": "62108d3bcabba50a5551c94be0c58944c48365daffc285bf9efbbaced917d542"
  },
  "kernelspec": {
   "display_name": "Python 3.10.1 64-bit",
   "language": "python",
   "name": "python3"
  },
  "language_info": {
   "codemirror_mode": {
    "name": "ipython",
    "version": 3
   },
   "file_extension": ".py",
   "mimetype": "text/x-python",
   "name": "python",
   "nbconvert_exporter": "python",
   "pygments_lexer": "ipython3",
   "version": "3.10.1"
  },
  "orig_nbformat": 4
 },
 "nbformat": 4,
 "nbformat_minor": 2
}
